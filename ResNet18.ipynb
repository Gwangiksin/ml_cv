{
 "cells": [
  {
   "cell_type": "code",
   "execution_count": 5,
   "metadata": {},
   "outputs": [],
   "source": [
    "import torch\n",
    "import torch.nn as nn\n",
    "import torch.nn.functional as F\n",
    "import wandb\n",
    "import warnings"
   ]
  },
  {
   "cell_type": "code",
   "execution_count": 6,
   "metadata": {},
   "outputs": [
    {
     "data": {
      "text/html": [
       "Finishing last run (ID:oubhp1vj) before initializing another..."
      ],
      "text/plain": [
       "<IPython.core.display.HTML object>"
      ]
     },
     "metadata": {},
     "output_type": "display_data"
    },
    {
     "data": {
      "text/html": [
       " View run <strong style=\"color:#cdcd00\">Run_1</strong> at: <a href='https://wandb.ai/gwangikshin/ResNet18/runs/oubhp1vj' target=\"_blank\">https://wandb.ai/gwangikshin/ResNet18/runs/oubhp1vj</a><br/> View project at: <a href='https://wandb.ai/gwangikshin/ResNet18' target=\"_blank\">https://wandb.ai/gwangikshin/ResNet18</a><br/>Synced 5 W&B file(s), 0 media file(s), 0 artifact file(s) and 0 other file(s)"
      ],
      "text/plain": [
       "<IPython.core.display.HTML object>"
      ]
     },
     "metadata": {},
     "output_type": "display_data"
    },
    {
     "data": {
      "text/html": [
       "Find logs at: <code>./wandb/run-20250102_000117-oubhp1vj/logs</code>"
      ],
      "text/plain": [
       "<IPython.core.display.HTML object>"
      ]
     },
     "metadata": {},
     "output_type": "display_data"
    },
    {
     "data": {
      "text/html": [
       "The new W&B backend becomes opt-out in version 0.18.0; try it out with `wandb.require(\"core\")`! See https://wandb.me/wandb-core for more information."
      ],
      "text/plain": [
       "<IPython.core.display.HTML object>"
      ]
     },
     "metadata": {},
     "output_type": "display_data"
    },
    {
     "data": {
      "text/html": [
       "Successfully finished last run (ID:oubhp1vj). Initializing new run:<br/>"
      ],
      "text/plain": [
       "<IPython.core.display.HTML object>"
      ]
     },
     "metadata": {},
     "output_type": "display_data"
    },
    {
     "data": {
      "text/html": [
       "wandb version 0.19.1 is available!  To upgrade, please run:\n",
       " $ pip install wandb --upgrade"
      ],
      "text/plain": [
       "<IPython.core.display.HTML object>"
      ]
     },
     "metadata": {},
     "output_type": "display_data"
    },
    {
     "data": {
      "text/html": [
       "Tracking run with wandb version 0.17.7"
      ],
      "text/plain": [
       "<IPython.core.display.HTML object>"
      ]
     },
     "metadata": {},
     "output_type": "display_data"
    },
    {
     "data": {
      "text/html": [
       "Run data is saved locally in <code>/home/gwangik/project/ml_cv/wandb/run-20250102_000747-jvwebanc</code>"
      ],
      "text/plain": [
       "<IPython.core.display.HTML object>"
      ]
     },
     "metadata": {},
     "output_type": "display_data"
    },
    {
     "data": {
      "text/html": [
       "Syncing run <strong><a href='https://wandb.ai/gwangikshin/ResNet18/runs/jvwebanc' target=\"_blank\">Run_1</a></strong> to <a href='https://wandb.ai/gwangikshin/ResNet18' target=\"_blank\">Weights & Biases</a> (<a href='https://wandb.me/run' target=\"_blank\">docs</a>)<br/>"
      ],
      "text/plain": [
       "<IPython.core.display.HTML object>"
      ]
     },
     "metadata": {},
     "output_type": "display_data"
    },
    {
     "data": {
      "text/html": [
       " View project at <a href='https://wandb.ai/gwangikshin/ResNet18' target=\"_blank\">https://wandb.ai/gwangikshin/ResNet18</a>"
      ],
      "text/plain": [
       "<IPython.core.display.HTML object>"
      ]
     },
     "metadata": {},
     "output_type": "display_data"
    },
    {
     "data": {
      "text/html": [
       " View run at <a href='https://wandb.ai/gwangikshin/ResNet18/runs/jvwebanc' target=\"_blank\">https://wandb.ai/gwangikshin/ResNet18/runs/jvwebanc</a>"
      ],
      "text/plain": [
       "<IPython.core.display.HTML object>"
      ]
     },
     "metadata": {},
     "output_type": "display_data"
    },
    {
     "data": {
      "text/html": [
       "<button onClick=\"this.nextSibling.style.display='block';this.style.display='none';\">Display W&B run</button><iframe src='https://wandb.ai/gwangikshin/ResNet18/runs/jvwebanc?jupyter=true' style='border:none;width:100%;height:420px;display:none;'></iframe>"
      ],
      "text/plain": [
       "<wandb.sdk.wandb_run.Run at 0x7f636e085430>"
      ]
     },
     "execution_count": 6,
     "metadata": {},
     "output_type": "execute_result"
    }
   ],
   "source": [
    "wandb.init(\n",
    "    project=\"ResNet18\",\n",
    "    name=\"Run_1\",\n",
    ")\n",
    "warnings.filterwarnings(\"ignore\")"
   ]
  },
  {
   "cell_type": "code",
   "execution_count": 7,
   "metadata": {},
   "outputs": [],
   "source": [
    "class ResidualBlock(nn.Module):\n",
    "    def __init__(self, inchannel, outchannel, stride=1):\n",
    "        super(ResidualBlock, self).__init__()\n",
    "        self.left = nn.Sequential(\n",
    "            nn.Conv2d(inchannel, outchannel, kernel_size=3, stride=stride, padding=1, bias=False),\n",
    "            nn.BatchNorm2d(outchannel),\n",
    "            nn.ReLU(inplace=True),\n",
    "            nn.Conv2d(outchannel, outchannel, kernel_size=3, stride=1, padding=1, bias=False),\n",
    "            nn.BatchNorm2d(outchannel)\n",
    "        )\n",
    "        self.shortcut = nn.Sequential()\n",
    "        if stride != 1 or inchannel != outchannel:\n",
    "            self.shortcut = nn.Sequential(\n",
    "                nn.Conv2d(inchannel, outchannel, kernel_size=1, stride=stride, bias=False),\n",
    "                nn.BatchNorm2d(outchannel)\n",
    "            )\n",
    "            \n",
    "    def forward(self, x):\n",
    "        out = self.left(x)\n",
    "        out = out + self.shortcut(x)\n",
    "        out = F.relu(out)\n",
    "        \n",
    "        return out\n",
    "\n",
    "class ResNet(nn.Module):\n",
    "    def __init__(self, ResidualBlock, num_classes=10):\n",
    "        super(ResNet, self).__init__()\n",
    "        self.inchannel = 64\n",
    "        self.conv1 = nn.Sequential(\n",
    "            nn.Conv2d(3, 64, kernel_size=3, stride=1, padding=1, bias=False),\n",
    "            nn.BatchNorm2d(64),\n",
    "            nn.ReLU()\n",
    "        )\n",
    "        self.layer1 = self.make_layer(ResidualBlock, 64, 2, stride=1)\n",
    "        self.layer2 = self.make_layer(ResidualBlock, 128, 2, stride=2)\n",
    "        self.layer3 = self.make_layer(ResidualBlock, 256, 2, stride=2)        \n",
    "        self.layer4 = self.make_layer(ResidualBlock, 512, 2, stride=2)        \n",
    "        self.fc = nn.Linear(512, num_classes)\n",
    "        \n",
    "    def make_layer(self, block, channels, num_blocks, stride):\n",
    "        strides = [stride] + [1] * (num_blocks - 1)\n",
    "        layers = []\n",
    "        for stride in strides:\n",
    "            layers.append(block(self.inchannel, channels, stride))\n",
    "            self.inchannel = channels\n",
    "        return nn.Sequential(*layers)\n",
    "    \n",
    "    def forward(self, x):\n",
    "        out = self.conv1(x)\n",
    "        out = self.layer1(out)\n",
    "        out = self.layer2(out)\n",
    "        out = self.layer3(out)\n",
    "        out = self.layer4(out)\n",
    "        out = F.avg_pool2d(out, 4)\n",
    "        out = out.view(out.size(0), -1)\n",
    "        out = self.fc(out)\n",
    "        return out"
   ]
  },
  {
   "cell_type": "code",
   "execution_count": 8,
   "metadata": {},
   "outputs": [],
   "source": [
    "def ResNet18():\n",
    "    return ResNet(ResidualBlock)"
   ]
  },
  {
   "cell_type": "code",
   "execution_count": 9,
   "metadata": {},
   "outputs": [
    {
     "name": "stdout",
     "output_type": "stream",
     "text": [
      "Files already downloaded and verified\n",
      "Files already downloaded and verified\n"
     ]
    }
   ],
   "source": [
    "# Use the ResNet18 on Cifar-10\n",
    "import torch.optim as optim\n",
    "import torchvision\n",
    "import torchvision.transforms as transforms\n",
    "import argparse\n",
    "import os\n",
    "\n",
    "# check gpu\n",
    "device = torch.device(\"cuda\" if torch.cuda.is_available() else \"cpu\")\n",
    "\n",
    "# set hyperparameter\n",
    "EPOCH = 5\n",
    "pre_epoch = 0\n",
    "BATCH_SIZE = 128\n",
    "LR = 0.01\n",
    "\n",
    "# prepare dataset and preprocessing\n",
    "transform_train = transforms.Compose([\n",
    "    transforms.RandomCrop(32, padding=4),\n",
    "    transforms.RandomHorizontalFlip(),\n",
    "    transforms.ToTensor(),\n",
    "    transforms.Normalize((0.4914, 0.4822, 0.4465), (0.2023, 0.1994, 0.2010))\n",
    "])\n",
    "\n",
    "transform_test = transforms.Compose([\n",
    "    transforms.ToTensor(),\n",
    "    transforms.Normalize((0.4914, 0.4822, 0.4465), (0.2023, 0.1994, 0.2010))\n",
    "])\n",
    "\n",
    "trainset = torchvision.datasets.CIFAR10(root='../data', train=True, download=True, transform=transform_train)\n",
    "trainloader = torch.utils.data.DataLoader(trainset, batch_size=BATCH_SIZE, shuffle=True, num_workers=2)\n",
    "\n",
    "testset = torchvision.datasets.CIFAR10(root='../data', train=False, download=True, transform=transform_test)\n",
    "testloader = torch.utils.data.DataLoader(testset, batch_size=100, shuffle=False, num_workers=2)\n",
    "\n",
    "# labels in CIFAR10\n",
    "classes = ('plane', 'car', 'bird', 'cat', 'deer', 'dog', 'frog', 'horse', 'ship', 'truck')\n",
    "\n",
    "# define ResNet18\n",
    "net = ResNet18().to(device)\n",
    "\n",
    "# define loss funtion & optimizer\n",
    "criterion = nn.CrossEntropyLoss()\n",
    "optimizer = optim.SGD(net.parameters(), lr=LR, momentum=0.9, weight_decay=5e-4)"
   ]
  },
  {
   "cell_type": "code",
   "execution_count": 11,
   "metadata": {},
   "outputs": [
    {
     "name": "stdout",
     "output_type": "stream",
     "text": [
      "\n",
      "Epoch: 1\n"
     ]
    },
    {
     "name": "stdout",
     "output_type": "stream",
     "text": [
      "[epoch:1, iter:100] Loss: 1.826 | Acc: 32.562% \n",
      "[epoch:1, iter:200] Loss: 1.654 | Acc: 39.012% \n",
      "[epoch:1, iter:300] Loss: 1.530 | Acc: 43.857% \n",
      "Waiting Test...\n",
      "Test's ac is: 56.590%\n",
      "\n",
      "Epoch: 2\n",
      "[epoch:2, iter:491] Loss: 1.037 | Acc: 62.711% \n",
      "[epoch:2, iter:591] Loss: 1.006 | Acc: 63.938% \n",
      "[epoch:2, iter:691] Loss: 0.967 | Acc: 65.443% \n",
      "Waiting Test...\n",
      "Test's ac is: 70.000%\n",
      "\n",
      "Epoch: 3\n",
      "[epoch:3, iter:882] Loss: 0.755 | Acc: 73.242% \n",
      "[epoch:3, iter:982] Loss: 0.733 | Acc: 74.117% \n",
      "[epoch:3, iter:1082] Loss: 0.724 | Acc: 74.560% \n",
      "Waiting Test...\n",
      "Test's ac is: 75.100%\n",
      "\n",
      "Epoch: 4\n",
      "[epoch:4, iter:1273] Loss: 0.620 | Acc: 78.562% \n",
      "[epoch:4, iter:1373] Loss: 0.617 | Acc: 78.746% \n",
      "[epoch:4, iter:1473] Loss: 0.609 | Acc: 79.036% \n",
      "Waiting Test...\n",
      "Test's ac is: 77.320%\n",
      "\n",
      "Epoch: 5\n",
      "[epoch:5, iter:1664] Loss: 0.528 | Acc: 81.422% \n",
      "[epoch:5, iter:1764] Loss: 0.531 | Acc: 81.410% \n",
      "[epoch:5, iter:1864] Loss: 0.522 | Acc: 81.648% \n",
      "Waiting Test...\n",
      "Test's ac is: 81.180%\n",
      "Train has finished, total epoch is 5\n"
     ]
    }
   ],
   "source": [
    "#train\n",
    "for epoch in range(pre_epoch, EPOCH):\n",
    "    print('\\nEpoch: %d' % (epoch + 1))\n",
    "    net.train()\n",
    "    sum_loss = 0.0\n",
    "    correct = 0.0\n",
    "    total = 0.0\n",
    "    for i, data in enumerate(trainloader, 0):\n",
    "        #prepare dataset\n",
    "        length = len(trainloader)\n",
    "        inputs, labels = data\n",
    "        inputs, labels = inputs.to(device), labels.to(device)\n",
    "        optimizer.zero_grad()\n",
    "        \n",
    "        #forward & backward\n",
    "        outputs = net(inputs)\n",
    "        loss = criterion(outputs, labels)\n",
    "        loss.backward()\n",
    "        optimizer.step()\n",
    "        \n",
    "        #print ac & loss in each batch\n",
    "        sum_loss += loss.item()\n",
    "        _, predicted = torch.max(outputs.data, 1)\n",
    "        total += labels.size(0)\n",
    "        correct += predicted.eq(labels.data).cpu().sum()\n",
    "        if (i + 1) % 100 == 0:\n",
    "            print('[epoch:%d, iter:%d] Loss: %.03f | Acc: %.3f%% ' \n",
    "                % (epoch + 1, (i + 1 + epoch * length), sum_loss / (i + 1), 100. * correct / total))\n",
    "        \n",
    "    #get the ac with testdataset in each epoch\n",
    "    print('Waiting Test...')\n",
    "    with torch.no_grad():\n",
    "        correct = 0\n",
    "        total = 0\n",
    "        for data in testloader:\n",
    "            net.eval()\n",
    "            images, labels = data\n",
    "            images, labels = images.to(device), labels.to(device)\n",
    "            outputs = net(images)\n",
    "            _, predicted = torch.max(outputs.data, 1)\n",
    "            total += labels.size(0)\n",
    "            correct += (predicted == labels).sum()\n",
    "        print('Test\\'s ac is: %.3f%%' % (100 * correct / total))\n",
    "        wandb.log({\"Train Loss\": sum_loss / (i + 1), \n",
    "                   \"Test Accuracy\": 100 * correct / total,\n",
    "                   \"Test img\": [wandb.Image(images[0], caption=classes[labels[0]])]\n",
    "                   })\n",
    "\n",
    "print('Train has finished, total epoch is %d' % EPOCH)"
   ]
  },
  {
   "cell_type": "code",
   "execution_count": null,
   "metadata": {},
   "outputs": [
    {
     "data": {
      "image/png": "[encoded data removed]",
      "text/plain": [
       "<Figure size 800x400 with 1 Axes>"
      ]
     },
     "metadata": {},
     "output_type": "display_data"
    }
   ],
   "source": [
    "import math\n",
    "import torch\n",
    "import torch.nn as nn\n",
    "import torch.optim as optim\n",
    "import matplotlib.pyplot as plt\n",
    "from torch.optim.lr_scheduler import _LRScheduler\n",
    "\n",
    "\n",
    "# 커스텀 스케줄러(CosineAnnealingWarmUpRestarts) 정의\n",
    "\n",
    "class CosineAnnealingWarmUpRestarts(_LRScheduler):\n",
    "    def __init__(self, optimizer, T_0, T_mult=1, eta_max=0.1, T_up=0, gamma=1., last_epoch=-1):\n",
    "        if T_0 <= 0 or not isinstance(T_0, int):\n",
    "            raise ValueError(\"Expected positive integer T_0, but got {}\".format(T_0))\n",
    "        if T_mult < 1 or not isinstance(T_mult, int):\n",
    "            raise ValueError(\"Expected integer T_mult >= 1, but got {}\".format(T_mult))\n",
    "        if T_up < 0 or not isinstance(T_up, int):\n",
    "            raise ValueError(\"Expected positive integer T_up, but got {}\".format(T_up))\n",
    "\n",
    "        self.T_0 = T_0\n",
    "        self.T_mult = T_mult\n",
    "        self.T_up = T_up\n",
    "        self.gamma = gamma\n",
    "\n",
    "        self.T_i = T_0\n",
    "        self.cycle = 0\n",
    "        self.T_cur = last_epoch\n",
    "\n",
    "        # Support multiple eta_max for multiple param groups\n",
    "        if isinstance(eta_max, list) or isinstance(eta_max, tuple):\n",
    "            if len(eta_max) != len(optimizer.param_groups):\n",
    "                raise ValueError(\"Expected len(eta_max) == len(optimizer.param_groups), \"\n",
    "                                 \"but got {} and {}\".format(len(eta_max), len(optimizer.param_groups)))\n",
    "            self.eta_max = list(eta_max)\n",
    "        else:\n",
    "            self.eta_max = [eta_max] * len(optimizer.param_groups)\n",
    "        \n",
    "        # Store base_eta_max for scaling\n",
    "        self.base_eta_max = self.eta_max.copy()\n",
    "\n",
    "        super(CosineAnnealingWarmUpRestarts, self).__init__(optimizer, last_epoch)\n",
    "    \n",
    "    def get_lr(self):\n",
    "        if self.T_cur == -1:\n",
    "            return self.base_lrs\n",
    "        elif self.T_cur < self.T_up:\n",
    "            return [\n",
    "                (eta_max - base_lr) * self.T_cur / self.T_up + base_lr \n",
    "                for base_lr, eta_max in zip(self.base_lrs, self.eta_max)\n",
    "            ]\n",
    "        else:\n",
    "            return [\n",
    "                base_lr + (eta_max - base_lr) * \n",
    "                (1 + math.cos(math.pi * (self.T_cur - self.T_up) / (self.T_i - self.T_up))) / 2\n",
    "                for base_lr, eta_max in zip(self.base_lrs, self.eta_max)\n",
    "            ]\n",
    "    \n",
    "    def step(self, epoch=None):\n",
    "        if epoch is None:\n",
    "            epoch = self.last_epoch + 1\n",
    "            self.T_cur = self.T_cur + 1\n",
    "            if self.T_cur >= self.T_i:\n",
    "                self.cycle += 1\n",
    "                self.T_cur = self.T_cur - self.T_i\n",
    "                self.T_i = (self.T_i - self.T_up) * self.T_mult + self.T_up\n",
    "        else:\n",
    "            if epoch >= self.T_0:\n",
    "                if self.T_mult == 1:\n",
    "                    self.T_cur = epoch % self.T_0\n",
    "                    self.cycle = epoch // self.T_0\n",
    "                else:\n",
    "                    n = int(math.log((epoch / self.T_0 * (self.T_mult - 1) + 1), self.T_mult))\n",
    "                    self.cycle = n\n",
    "                    self.T_cur = epoch - self.T_0 * (self.T_mult ** n - 1) / (self.T_mult - 1)\n",
    "                    self.T_i = self.T_0 * self.T_mult ** n\n",
    "            else:\n",
    "                self.T_i = self.T_0\n",
    "                self.T_cur = epoch\n",
    "\n",
    "        # Update eta_max for each param group\n",
    "        self.eta_max = [base_eta_max * (self.gamma ** self.cycle) for base_eta_max in self.base_eta_max]\n",
    "        self.last_epoch = math.floor(epoch)\n",
    "        for param_group, lr in zip(self.optimizer.param_groups, self.get_lr()):\n",
    "            param_group['lr'] = lr\n",
    "\n",
    "\n",
    "# 예시용 간단한 모델\n",
    "model = nn.Linear(10, 1)\n",
    "\n",
    "# 옵티마이저 정의 (초기 lr 값은 스케줄러에서 점차 조정됨)\n",
    "optimizer = optim.SGD(model.parameters(), lr=0.0)\n",
    "\n",
    "# 스케줄러 생성\n",
    "cycle_steps = 10       # 주기(period) 길이\n",
    "warmup_steps = 2       # 워밍업 단계\n",
    "eta_max = 0.1          # 최대 lr\n",
    "scheduler = CosineAnnealingWarmUpRestarts(\n",
    "    optimizer,\n",
    "    T_0=cycle_steps,   \n",
    "    T_mult=1,          \n",
    "    eta_max=eta_max,   \n",
    "    T_up=warmup_steps, \n",
    "    gamma=0.5          \n",
    ")\n",
    "\n",
    "\n",
    "epochs = 40  # 관찰할 에폭 수\n",
    "lr_values = []\n",
    "\n",
    "for epoch in range(epochs):\n",
    "\n",
    "    lr_values.append(optimizer.param_groups[0]['lr'])\n",
    "    \n",
    "\n",
    "    scheduler.step(epoch)\n",
    "\n",
    "\n",
    "plt.figure(figsize=(8, 4))\n",
    "plt.plot(range(epochs), lr_values, marker='o', label='Learning Rate')\n",
    "plt.title('Learning Rate Schedule (Cosine Warmup Restarts)')\n",
    "plt.xlabel('Epoch')\n",
    "plt.ylabel('Learning Rate')\n",
    "plt.legend()\n",
    "plt.grid(True)\n",
    "plt.show()\n"
   ]
  }
 ],
 "metadata": {
  "kernelspec": {
   "display_name": "py3.9",
   "language": "python",
   "name": "python3"
  },
  "language_info": {
   "codemirror_mode": {
    "name": "ipython",
    "version": 3
   },
   "file_extension": ".py",
   "mimetype": "text/x-python",
   "name": "python",
   "nbconvert_exporter": "python",
   "pygments_lexer": "ipython3",
   "version": "3.9.19"
  }
 },
 "nbformat": 4,
 "nbformat_minor": 2
}
